{
 "cells": [
  {
   "cell_type": "code",
   "execution_count": 14,
   "metadata": {},
   "outputs": [
    {
     "name": "stdout",
     "output_type": "stream",
     "text": [
      "1 2 3 4\n",
      "['1', '2', '3', '4']\n",
      "[1, 2, 3, 4]\n"
     ]
    }
   ],
   "source": [
    "num=input().split()\n",
    "print(num)\n",
    "num2=list(map(int,num))\n",
    "print(num2)\n"
   ]
  },
  {
   "cell_type": "code",
   "execution_count": 13,
   "metadata": {},
   "outputs": [
    {
     "name": "stdout",
     "output_type": "stream",
     "text": [
      "anjali\n",
      "no.of letters= 6\n",
      "no.of vowels= 3\n",
      "['a', 'a', 'i']\n",
      "Counter({'a': 2, 'i': 1})\n"
     ]
    }
   ],
   "source": [
    "from collections import Counter\n",
    "word=input()\n",
    "wordlist=[]\n",
    "for i in range(len(word)):\n",
    "    wordlist.append(word[i])\n",
    "count=0\n",
    "vowel=[]\n",
    "for i in wordlist:\n",
    "    if(i=='a' or i=='e' or i=='o' or i=='u' or i=='i' or i=='A' or i=='E' or i=='I' or i=='O' or i=='U'):\n",
    "        count=count+1\n",
    "        vowel.append(i)\n",
    "print(\"no.of letters=\",len(word))\n",
    "print(\"no.of vowels=\",count)\n",
    "print(vowel)\n",
    "d=Counter(vowel) \n",
    "print(d)"
   ]
  },
  {
   "cell_type": "code",
   "execution_count": 15,
   "metadata": {},
   "outputs": [
    {
     "name": "stdout",
     "output_type": "stream",
     "text": [
      "1 2 3 4 \n"
     ]
    },
    {
     "ename": "AttributeError",
     "evalue": "'str' object has no attribute 'spilt'",
     "output_type": "error",
     "traceback": [
      "\u001b[1;31m---------------------------------------------------------------------------\u001b[0m",
      "\u001b[1;31mAttributeError\u001b[0m                            Traceback (most recent call last)",
      "\u001b[1;32m<ipython-input-15-fd0abbf23c49>\u001b[0m in \u001b[0;36m<module>\u001b[1;34m\u001b[0m\n\u001b[0;32m      3\u001b[0m     \u001b[0mprint\u001b[0m\u001b[1;33m(\u001b[0m\u001b[0ml\u001b[0m\u001b[1;33m[\u001b[0m\u001b[1;33m-\u001b[0m\u001b[1;36m2\u001b[0m\u001b[1;33m]\u001b[0m\u001b[1;33m)\u001b[0m\u001b[1;33m\u001b[0m\u001b[1;33m\u001b[0m\u001b[0m\n\u001b[0;32m      4\u001b[0m \u001b[1;33m\u001b[0m\u001b[0m\n\u001b[1;32m----> 5\u001b[1;33m \u001b[0ml1\u001b[0m\u001b[1;33m=\u001b[0m\u001b[0minput\u001b[0m\u001b[1;33m(\u001b[0m\u001b[1;33m)\u001b[0m\u001b[1;33m.\u001b[0m\u001b[0mspilt\u001b[0m\u001b[1;33m(\u001b[0m\u001b[1;33m)\u001b[0m\u001b[1;33m\u001b[0m\u001b[1;33m\u001b[0m\u001b[0m\n\u001b[0m\u001b[0;32m      6\u001b[0m \u001b[0melement\u001b[0m\u001b[1;33m(\u001b[0m\u001b[0mli\u001b[0m\u001b[1;33m)\u001b[0m\u001b[1;33m\u001b[0m\u001b[1;33m\u001b[0m\u001b[0m\n",
      "\u001b[1;31mAttributeError\u001b[0m: 'str' object has no attribute 'spilt'"
     ]
    }
   ],
   "source": [
    "def element(li):\n",
    "    l=li.sort()\n",
    "    print(l[-2])\n",
    "    \n",
    "l1=input().spilt()\n",
    "element(li)"
   ]
  },
  {
   "cell_type": "markdown",
   "metadata": {},
   "source": [
    "# Dictionaries"
   ]
  },
  {
   "cell_type": "code",
   "execution_count": 7,
   "metadata": {},
   "outputs": [
    {
     "name": "stdout",
     "output_type": "stream",
     "text": [
      "Contact Added Successfully\n",
      "Contact Added Successfully\n"
     ]
    }
   ],
   "source": [
    "##Adding Contact\n",
    "##Name ,Phone number\n",
    "contacts={}\n",
    "def addcontact(name,phnnum):\n",
    "    if name not in contacts:\n",
    "        contacts[name]=phnnum\n",
    "        print(\"Contact Added Successfully\")\n",
    "    else:\n",
    "        print(\"contact already exists\")\n",
    "addcontact('name1',9347675013)\n",
    "addcontact('name2',9963869334)"
   ]
  },
  {
   "cell_type": "code",
   "execution_count": 8,
   "metadata": {},
   "outputs": [
    {
     "data": {
      "text/plain": [
       "{'name1': 9347675013, 'name2': 9963869334}"
      ]
     },
     "execution_count": 8,
     "metadata": {},
     "output_type": "execute_result"
    }
   ],
   "source": [
    "contacts"
   ]
  },
  {
   "cell_type": "code",
   "execution_count": 10,
   "metadata": {},
   "outputs": [
    {
     "name": "stdout",
     "output_type": "stream",
     "text": [
      "name1 : 9347675013\n"
     ]
    }
   ],
   "source": [
    "##searching a contact\n",
    "##using key \"name\"\n",
    "def searchcontact(name):\n",
    "    if name in contacts:\n",
    "        print(name,\":\",contacts[name])\n",
    "    else:\n",
    "        print(\"Doesnot exists\")\n",
    "searchcontact(\"name1\")"
   ]
  },
  {
   "cell_type": "code",
   "execution_count": 11,
   "metadata": {},
   "outputs": [
    {
     "name": "stdout",
     "output_type": "stream",
     "text": [
      "Doesnot exists\n"
     ]
    }
   ],
   "source": [
    "searchcontact('name3')"
   ]
  },
  {
   "cell_type": "code",
   "execution_count": 12,
   "metadata": {},
   "outputs": [
    {
     "name": "stdout",
     "output_type": "stream",
     "text": [
      "Contact Added Successfully\n"
     ]
    }
   ],
   "source": [
    "contacts1={}\n",
    "def addcontact(name,phnnum):\n",
    "    if name not in contacts:\n",
    "        contacts1[name]=phnnum\n",
    "        print(\"Contact Added Successfully\")\n",
    "    else:\n",
    "        print(\"contact already exists\")\n",
    "addcontact('kiranmai',9347675013)"
   ]
  },
  {
   "cell_type": "code",
   "execution_count": 15,
   "metadata": {},
   "outputs": [
    {
     "name": "stdout",
     "output_type": "stream",
     "text": [
      "kiranmai : 9347675013\n"
     ]
    }
   ],
   "source": [
    "def searchcontact1(name):\n",
    "    if name in contacts1:\n",
    "        print(name,\":\",contacts1[name])\n",
    "    else:\n",
    "        print(\"Doesnot exists\")\n",
    "searchcontact1(\"kiranmai\")"
   ]
  },
  {
   "cell_type": "code",
   "execution_count": 11,
   "metadata": {},
   "outputs": [
    {
     "name": "stdout",
     "output_type": "stream",
     "text": [
      "100\n",
      "5050\n",
      "last digit in sum= 0\n"
     ]
    }
   ],
   "source": [
    "n=int(input())\n",
    "sum=0\n",
    "for i in range(n+1):\n",
    "    sum=sum+i\n",
    "print(sum)\n",
    "print(\"last digit in sum=\",sum%10)\n",
    "count=0\n",
    "while(sum>0):\n",
    "    sum=sum//10\n",
    "    n=sum%10\n",
    "    if(count==2):\n",
    "        print(n)\n",
    "        count+=1\n",
    "\n"
   ]
  },
  {
   "cell_type": "code",
   "execution_count": 22,
   "metadata": {},
   "outputs": [
    {
     "name": "stdout",
     "output_type": "stream",
     "text": [
      "2 contact added succesfully\n"
     ]
    }
   ],
   "source": [
    "##merging two contacts\n",
    "##using update method\n",
    "def mergecontacts(newcontacts):\n",
    "    contacts.update(newcontacts)\n",
    "    print(len(newcontacts.keys()),\"contact added succesfully\")\n",
    "newcontacts={'name1' : 9347675013,'name2':9963869334}\n",
    "mergecontacts(newcontacts)"
   ]
  },
  {
   "cell_type": "code",
   "execution_count": 23,
   "metadata": {},
   "outputs": [
    {
     "name": "stdout",
     "output_type": "stream",
     "text": [
      "Contact Added Successfully\n"
     ]
    }
   ],
   "source": [
    "#dictionary :mobilecontacts\n",
    "##add a contact\n",
    "##key:'a',value:9989870478\n",
    "##another dictionary:applemobile\n",
    "##key:'b',value:9989970478\n",
    "\n",
    "mobilecontacts={}\n",
    "def addcontact(name,phnnum):\n",
    "    if name not in mobilecontacts:\n",
    "        mobilecontacts[name]=phnnum\n",
    "        print(\"Contact Added Successfully\")\n",
    "    else:\n",
    "        print(\"contact already exists\")\n",
    "addcontact('a',9989870478)"
   ]
  },
  {
   "cell_type": "code",
   "execution_count": 24,
   "metadata": {},
   "outputs": [
    {
     "name": "stdout",
     "output_type": "stream",
     "text": [
      "Contact Added Successfully\n"
     ]
    }
   ],
   "source": [
    "applemobile={}\n",
    "def addcontact(name,phnnum):\n",
    "    if name not in applemobile:\n",
    "        applemobile[name]=phnnum\n",
    "        print(\"Contact Added Successfully\")\n",
    "    else:\n",
    "        print(\"contact already exists\")\n",
    "addcontact('b',9989970478)"
   ]
  },
  {
   "cell_type": "markdown",
   "metadata": {},
   "source": [
    "# package"
   ]
  },
  {
   "cell_type": "markdown",
   "metadata": {},
   "source": [
    "## modules"
   ]
  },
  {
   "cell_type": "markdown",
   "metadata": {},
   "source": [
    "### module->collection of functions"
   ]
  },
  {
   "cell_type": "code",
   "execution_count": 39,
   "metadata": {},
   "outputs": [
    {
     "data": {
      "text/plain": [
       "True"
      ]
     },
     "execution_count": 39,
     "metadata": {},
     "output_type": "execute_result"
    }
   ],
   "source": [
    "from packages.numerical import prime_or_not\n",
    "prime_or_not(5)"
   ]
  },
  {
   "cell_type": "code",
   "execution_count": 1,
   "metadata": {},
   "outputs": [
    {
     "name": "stdout",
     "output_type": "stream",
     "text": [
      "10\n",
      "12\n"
     ]
    },
    {
     "data": {
      "text/plain": [
       "True"
      ]
     },
     "execution_count": 1,
     "metadata": {},
     "output_type": "execute_result"
    }
   ],
   "source": [
    "from packages.numeric import check\n",
    "check(10,12)"
   ]
  },
  {
   "cell_type": "code",
   "execution_count": 1,
   "metadata": {},
   "outputs": [
    {
     "name": "stdout",
     "output_type": "stream",
     "text": [
      "72\n",
      "70\n",
      "72\n",
      "70\n",
      "75\n",
      "70\n",
      "75\n",
      "72\n",
      "74\n",
      "71\n"
     ]
    }
   ],
   "source": [
    "import random\n",
    "def generatemarks(n,lb,ub):\n",
    "    for i in range(0,n):\n",
    "        print(random.randint(lb,ub))\n",
    "generatemarks(10,70,75)"
   ]
  },
  {
   "cell_type": "markdown",
   "metadata": {},
   "source": [
    "### regular expression\n",
    "#### phone numbers:pattern=^[6-9][0-9]{9}$"
   ]
  },
  {
   "cell_type": "code",
   "execution_count": 10,
   "metadata": {},
   "outputs": [
    {
     "name": "stdout",
     "output_type": "stream",
     "text": [
      "valid\n"
     ]
    }
   ],
   "source": [
    "##function for phonenumber validtaion using\n",
    "##regular expression\n",
    "import re\n",
    "def phonenumbervalidator(number):\n",
    "    number=str(number)\n",
    "    pattern='^[6-9][0-9]{9}$'\n",
    "    if re.match(pattern,number):\n",
    "        print(\"valid\")\n",
    "    else:\n",
    "        print(\"invalid\")\n",
    "phonenumbervalidator(9347675013)"
   ]
  },
  {
   "cell_type": "code",
   "execution_count": 16,
   "metadata": {},
   "outputs": [
    {
     "name": "stdout",
     "output_type": "stream",
     "text": [
      "valid\n"
     ]
    }
   ],
   "source": [
    "#email validation\n",
    "#3 parts  {username domain extension}\n",
    "#username domain extension\n",
    "#domain-website name\n",
    "#extension .com or .in\n",
    "#starting should be smallcase alphabet or number  followed by any alphabet or num or _ or .\n",
    "#after username @ is compulsory followed by any alphabet\n",
    "#after domain . compulsory followed by any alphabet\n",
    "##pattern:'^[a-z0-9][a-z0-9_.]{3-18}'  here 3-18 is the length of the mailid  -username\n",
    "           #domain '^[@][a-z0-9]{4,18}'\n",
    "           #extension '^[.][a-z]{2,4}'\n",
    "import re\n",
    "def emailvalidation(email):\n",
    "    email=str(email)\n",
    "    pattern='^[a-z0-9][a-z0-9_.]{3,18}[@][a-z0-9]{4,18}[.][a-z]{2,4}$'\n",
    "    if re.match(pattern,email):\n",
    "        print(\"valid\")\n",
    "    else:\n",
    "        print(\"invalid\")\n",
    "emailvalidation('cha3_.@gmail.com')    "
   ]
  },
  {
   "cell_type": "markdown",
   "metadata": {},
   "source": [
    "## File Handling\n",
    " ### It's a collection of related information\n",
    " ### Basic steps\n",
    " #### Opening a file\n",
    " #### Performing operations (read,write,append)\n",
    " #### closing file"
   ]
  },
  {
   "cell_type": "code",
   "execution_count": 20,
   "metadata": {},
   "outputs": [
    {
     "name": "stdout",
     "output_type": "stream",
     "text": [
      "line 4\n"
     ]
    }
   ],
   "source": [
    "#syntax for opening a file\n",
    "#file_obj=open(\"filepath\",\"mode\")  without mode by default it is considered as read\n",
    "f=open(\"Datafiles/data.txt\",\"r\")\n",
    "print(f.read())\n",
    "f.close()"
   ]
  },
  {
   "cell_type": "code",
   "execution_count": 25,
   "metadata": {},
   "outputs": [],
   "source": [
    "with open(\"Datafiles/data.txt\",\"a\") as f:  #w erases all data in file and adds new data  a opens the file  safely to add data\n",
    "    f.write(\"\\nline 6\")"
   ]
  },
  {
   "cell_type": "code",
   "execution_count": 28,
   "metadata": {},
   "outputs": [],
   "source": [
    "with open(\"Datafiles/untitled.txt\",\"a\") as f:\n",
    "    f.write(\"\\nSo Giving party is not possible \\n Giving Gift also n ot possible\")\n",
    "    f.close()"
   ]
  },
  {
   "cell_type": "code",
   "execution_count": 33,
   "metadata": {},
   "outputs": [
    {
     "name": "stdout",
     "output_type": "stream",
     "text": [
      "26\n",
      "0\n"
     ]
    }
   ],
   "source": [
    "with open(\"Datafiles/data.txt\",'a+') as f:  #a+  opens file in read mode and adds data\n",
    "    f.read()\n",
    "    print(f.tell())\n",
    "    f.seek(0)   #seek changes the cursor position using index\n",
    "    print(f.tell())  #tell returns cursor position"
   ]
  },
  {
   "cell_type": "code",
   "execution_count": 41,
   "metadata": {},
   "outputs": [
    {
     "name": "stdout",
     "output_type": "stream",
     "text": [
      "15\n"
     ]
    }
   ],
   "source": [
    "with open(\"Datafiles/file.txt\",'a+') as f:  #a+  opens file in read mode and adds data\n",
    "    f.read()\n",
    "    print(f.tell())\n",
    "    f.seek(0)\n",
    "    f.write(\"Line2\")"
   ]
  },
  {
   "cell_type": "code",
   "execution_count": 55,
   "metadata": {},
   "outputs": [
    {
     "name": "stdout",
     "output_type": "stream",
     "text": [
      "Today is Revanth Bro Birthday\n",
      "He is  in Hyderabad\n",
      "So Giving party is not possible \n",
      "Giving Gift also not possible\n",
      "\n",
      "Today is Revanth Bro Birthday\n",
      "\n",
      "['Today is Revanth Bro Birthday\\n', 'He is  in Hyderabad\\n', 'So Giving party is not possible \\n', 'Giving Gift also not possible\\n']\n"
     ]
    }
   ],
   "source": [
    "#readline() reads individual line\n",
    "#read reads entire file\n",
    "# readlines() reads  all lines in entire file\n",
    "\n",
    "with open(\"Datafiles/untitled.txt\",'r') as f: \n",
    "    print(f.read())\n",
    "    f.close()\n",
    "with open(\"Datafiles/untitled.txt\",'r') as f:    \n",
    "    print(f.readline())\n",
    "    f.close()\n",
    "with open(\"Datafiles/untitled.txt\",'r') as f:    \n",
    "    print(f.readlines())\n",
    "    f.close()"
   ]
  },
  {
   "cell_type": "code",
   "execution_count": 43,
   "metadata": {},
   "outputs": [
    {
     "name": "stdout",
     "output_type": "stream",
     "text": [
      "['L'] ['i'] ['n'] ['e'] [] ['1'] [] ['L'] ['i'] ['n'] ['e'] [] ['3'] [] [] ['L'] ['i'] ['n'] ['e'] ['2'] "
     ]
    }
   ],
   "source": [
    "#reading a file and returnning each letter in the file as a list\n",
    "with open(\"Datafiles/file.txt\") as f:\n",
    "    data=f.read()\n",
    "    for line in data:\n",
    "        word=line.split()\n",
    "        print(word,end=\" \")"
   ]
  },
  {
   "cell_type": "code",
   "execution_count": 59,
   "metadata": {},
   "outputs": [
    {
     "name": "stdout",
     "output_type": "stream",
     "text": [
      "['pyth', 'on work', 'shop is inter', 'sting']\n"
     ]
    }
   ],
   "source": [
    "#spliting thw words in file where $ is present\n",
    "with open(\"Datafiles/file.txt\",'r') as f:\n",
    "    fh=f.read()\n",
    "    words=fh.split('$')\n",
    "    print(words)"
   ]
  },
  {
   "cell_type": "code",
   "execution_count": 60,
   "metadata": {},
   "outputs": [
    {
     "name": "stdout",
     "output_type": "stream",
     "text": [
      "Today is Revanth Bro Birthday\n",
      "He is  in Hyderabad\n",
      "So Giving party is not possible \n",
      "Giving Gift also not possible\n",
      "\n"
     ]
    }
   ],
   "source": [
    "#reads the file and return the data in file using functions\n",
    "\n",
    "def readfile(filepath):\n",
    "        with open(filepath,'r') as f:\n",
    "            filedata=f.read()\n",
    "        return filedata\n",
    "filepath='Datafiles/untitled.txt'\n",
    "print(readfile(filepath))"
   ]
  },
  {
   "cell_type": "code",
   "execution_count": 61,
   "metadata": {},
   "outputs": [
    {
     "name": "stdout",
     "output_type": "stream",
     "text": [
      "4\n"
     ]
    }
   ],
   "source": [
    "#counting no.of lines in file\n",
    "def linecount(filepath):\n",
    "        count=0\n",
    "        with open(filepath,'r') as f:\n",
    "            for i in f:\n",
    "                count+=1\n",
    "        return count\n",
    "filepath='Datafiles/untitled.txt'\n",
    "print(linecount(filepath))\n",
    "    "
   ]
  },
  {
   "cell_type": "code",
   "execution_count": 62,
   "metadata": {},
   "outputs": [
    {
     "name": "stdout",
     "output_type": "stream",
     "text": [
      "4\n"
     ]
    }
   ],
   "source": [
    "#or\n",
    "def linecount(filepath):\n",
    "        count=0\n",
    "        with open(filepath,'r') as f:\n",
    "            data=f.read()\n",
    "            for i in data:\n",
    "                \n",
    "                count+=1\n",
    "        return count\n",
    "filepath='Datafiles/untitled.txt'\n",
    "print(linecount(filepath))\n",
    "    "
   ]
  },
  {
   "cell_type": "code",
   "execution_count": 65,
   "metadata": {},
   "outputs": [
    {
     "name": "stdout",
     "output_type": "stream",
     "text": [
      "['Today is Revanth Bro Birthday\\n', 'He is  in Hyderabad\\n', 'So Giving party is not possible \\n', 'Giving Gift also not possible\\n']\n",
      "4\n"
     ]
    }
   ],
   "source": [
    "#or\n",
    "def linecount(filepath):\n",
    "        count=0\n",
    "        with open(filepath,'r') as f:\n",
    "            data=f.readlines()\n",
    "            print(data)\n",
    "            for i in data:\n",
    "                \n",
    "                count+=1\n",
    "        return count\n",
    "filepath='Datafiles/untitled.txt'\n",
    "print(linecount(filepath))\n",
    "    "
   ]
  },
  {
   "cell_type": "code",
   "execution_count": 69,
   "metadata": {},
   "outputs": [
    {
     "name": "stdout",
     "output_type": "stream",
     "text": [
      "['Today is Revanth Bro Birthday\\n', 'He is  in Hyderabad\\n', 'So Giving party is not possible \\n', 'Giving Gift also not possible\\n']\n",
      "4\n"
     ]
    },
    {
     "data": {
      "text/plain": [
       "23"
      ]
     },
     "execution_count": 69,
     "metadata": {},
     "output_type": "execute_result"
    }
   ],
   "source": [
    "#count no.of words\n",
    "import re\n",
    "def wordcount(filepath):\n",
    "        pattern='[ \\n]'\n",
    "        filedata=readfile(filepath)\n",
    "        count=len(re.split(pattern,filedata))\n",
    "        return count\n",
    "filepath='Datafiles/untitled.txt'\n",
    "print(linecount(filepath))\n",
    "wordcount(filepath)   "
   ]
  },
  {
   "cell_type": "code",
   "execution_count": 82,
   "metadata": {},
   "outputs": [
    {
     "name": "stdout",
     "output_type": "stream",
     "text": [
      "['Today is Revanth Bro Birthday\\n', 'He is  in Hyderabad\\n', 'So Giving party is not possible \\n', 'Giving Gift also not possible\\n']\n",
      "4\n"
     ]
    },
    {
     "data": {
      "text/plain": [
       "92"
      ]
     },
     "execution_count": 82,
     "metadata": {},
     "output_type": "execute_result"
    }
   ],
   "source": [
    "#count spaces\n",
    "import re\n",
    "def spacecount(filepath):\n",
    "        pattern='[a-zA-Z]'\n",
    "        filedata=readfile(filepath)\n",
    "        count=len(re.split(pattern,filedata))\n",
    "        return count\n",
    "filepath='Datafiles/untitled.txt'\n",
    "print(linecount(filepath))\n",
    "spacecount(filepath)   "
   ]
  },
  {
   "cell_type": "code",
   "execution_count": 81,
   "metadata": {},
   "outputs": [
    {
     "name": "stdout",
     "output_type": "stream",
     "text": [
      "['Today is Revanth Bro Birthday\\n', 'He is  in Hyderabad\\n', 'So Giving party is not possible \\n', 'Giving Gift also not possible\\n']\n",
      "4\n"
     ]
    },
    {
     "data": {
      "text/plain": [
       "19"
      ]
     },
     "execution_count": 81,
     "metadata": {},
     "output_type": "execute_result"
    }
   ],
   "source": [
    "import re\n",
    "def wordcount(filepath):\n",
    "        pattern='[ ]'\n",
    "        filedata=readfile(filepath)\n",
    "        count=len(re.split(pattern,filedata))\n",
    "        return count\n",
    "filepath='Datafiles/untitled.txt'\n",
    "print(linecount(filepath))\n",
    "wordcount(filepath)   "
   ]
  },
  {
   "cell_type": "code",
   "execution_count": 85,
   "metadata": {},
   "outputs": [
    {
     "name": "stdout",
     "output_type": "stream",
     "text": [
      "['python', 'is', 'python', 'by', 'python', 'in', 'python', 'as', 'python']\n",
      "['python', 'is', 'by', 'in', 'as']\n"
     ]
    }
   ],
   "source": [
    "\n",
    "def uniqueword(filepath):\n",
    "    with open(filepath,'r') as f:\n",
    "        fh=f.read()\n",
    "        words=fh.split()\n",
    "        print(words)\n",
    "    item=[]\n",
    "    for i in words:\n",
    "        if i not in item:\n",
    "            item.append(i)\n",
    "    print(item)\n",
    "uniqueword(\"Datafiles/file.txt\")"
   ]
  },
  {
   "cell_type": "code",
   "execution_count": 103,
   "metadata": {},
   "outputs": [
    {
     "name": "stdout",
     "output_type": "stream",
     "text": [
      "['python', 'is', 'python', 'by', 'python', 'in', 'python', 'as', 'python']\n",
      "['python', 'is', 'by', 'in', 'as']\n",
      "[]\n"
     ]
    }
   ],
   "source": [
    "#counting the repeated words\n",
    "\n",
    "def uniqueword(filepath):\n",
    "    with open(filepath,'r') as f:\n",
    "        fh=f.read()\n",
    "        words=fh.split()\n",
    "        print(words)\n",
    "    item=[]\n",
    "    for i in words:\n",
    "        if i not in item:\n",
    "            item.append(i)\n",
    "    print(item)\n",
    "    count=0\n",
    "    for i in item:\n",
    "            if i  in words:\n",
    "                count+=1\n",
    "    print(item2)\n",
    "uniqueword(\"Datafiles/file.txt\")\n",
    "        "
   ]
  },
  {
   "cell_type": "code",
   "execution_count": 106,
   "metadata": {},
   "outputs": [
    {
     "name": "stdout",
     "output_type": "stream",
     "text": [
      "['python', 'is', 'python', 'by', 'python', 'in', 'python', 'as', 'python']\n"
     ]
    },
    {
     "data": {
      "text/plain": [
       "{'python': 5, 'is': 1, 'by': 1, 'in': 1, 'as': 1}"
      ]
     },
     "execution_count": 106,
     "metadata": {},
     "output_type": "execute_result"
    }
   ],
   "source": [
    "\n",
    "def wordfreq(filepath):\n",
    "    with open(filepath,'r') as f:\n",
    "        fh=f.read()\n",
    "        words=fh.split()\n",
    "        print(words)\n",
    "    item={}\n",
    "    for i in words:\n",
    "        if i not in item:\n",
    "            item[i]=1\n",
    "        else:\n",
    "            item[i]+=1\n",
    "    return(item)\n",
    "wordfreq(\"Datafiles/file.txt\")"
   ]
  },
  {
   "cell_type": "markdown",
   "metadata": {},
   "source": [
    "### Set and its Methods"
   ]
  },
  {
   "cell_type": "code",
   "execution_count": 107,
   "metadata": {},
   "outputs": [
    {
     "name": "stdout",
     "output_type": "stream",
     "text": [
      "{456, 234, 45, 'abd', 121, 122}\n"
     ]
    }
   ],
   "source": [
    "l=[121,\"abd\",456,234,122,45,\"abd\"]\n",
    "print(set(l))"
   ]
  },
  {
   "cell_type": "code",
   "execution_count": 109,
   "metadata": {},
   "outputs": [
    {
     "name": "stdout",
     "output_type": "stream",
     "text": [
      "{1, 2, 3}\n"
     ]
    }
   ],
   "source": [
    "t=(1,2,3,1,2,1,3,1,1)\n",
    "print(set(t))"
   ]
  },
  {
   "cell_type": "code",
   "execution_count": 110,
   "metadata": {},
   "outputs": [
    {
     "data": {
      "text/plain": [
       "['__and__',\n",
       " '__class__',\n",
       " '__contains__',\n",
       " '__delattr__',\n",
       " '__dir__',\n",
       " '__doc__',\n",
       " '__eq__',\n",
       " '__format__',\n",
       " '__ge__',\n",
       " '__getattribute__',\n",
       " '__gt__',\n",
       " '__hash__',\n",
       " '__iand__',\n",
       " '__init__',\n",
       " '__init_subclass__',\n",
       " '__ior__',\n",
       " '__isub__',\n",
       " '__iter__',\n",
       " '__ixor__',\n",
       " '__le__',\n",
       " '__len__',\n",
       " '__lt__',\n",
       " '__ne__',\n",
       " '__new__',\n",
       " '__or__',\n",
       " '__rand__',\n",
       " '__reduce__',\n",
       " '__reduce_ex__',\n",
       " '__repr__',\n",
       " '__ror__',\n",
       " '__rsub__',\n",
       " '__rxor__',\n",
       " '__setattr__',\n",
       " '__sizeof__',\n",
       " '__str__',\n",
       " '__sub__',\n",
       " '__subclasshook__',\n",
       " '__xor__',\n",
       " 'add',\n",
       " 'clear',\n",
       " 'copy',\n",
       " 'difference',\n",
       " 'difference_update',\n",
       " 'discard',\n",
       " 'intersection',\n",
       " 'intersection_update',\n",
       " 'isdisjoint',\n",
       " 'issubset',\n",
       " 'issuperset',\n",
       " 'pop',\n",
       " 'remove',\n",
       " 'symmetric_difference',\n",
       " 'symmetric_difference_update',\n",
       " 'union',\n",
       " 'update']"
      ]
     },
     "execution_count": 110,
     "metadata": {},
     "output_type": "execute_result"
    }
   ],
   "source": [
    "dir(set)"
   ]
  },
  {
   "cell_type": "code",
   "execution_count": 111,
   "metadata": {},
   "outputs": [
    {
     "name": "stdout",
     "output_type": "stream",
     "text": [
      "{1, 'wer', 'iiit', 122, 123, 'abc', 'qwe'}\n"
     ]
    }
   ],
   "source": [
    "#union returns new set with all  unique elements in set1 and set2\n",
    "s1={\"abc\",1,\"iiit\",123,123,\"iiit\"}\n",
    "s2={'qwe','wer',122}\n",
    "print(s1.union(s2))"
   ]
  },
  {
   "cell_type": "code",
   "execution_count": 113,
   "metadata": {},
   "outputs": [
    {
     "name": "stdout",
     "output_type": "stream",
     "text": [
      "{1}\n"
     ]
    }
   ],
   "source": [
    "#intersection returns common value\n",
    "s1={\"abc\",1,\"iiit\",123,123,\"iiit\"}\n",
    "s2={'qwe','wer',122,1}\n",
    "print(s1.intersection(s2))"
   ]
  },
  {
   "cell_type": "code",
   "execution_count": 114,
   "metadata": {},
   "outputs": [
    {
     "name": "stdout",
     "output_type": "stream",
     "text": [
      "3 x 5 = 15\n",
      "3 x 6 = 18\n",
      "3 x 7 = 21\n"
     ]
    }
   ],
   "source": [
    "##Tasks\n",
    "##Program to generate multiplication table\n",
    "#i/p (3,5,7)\n",
    "#o/p:3x5=15\n",
    "#     3x6=18\n",
    "#     3x7=21\n",
    "def multiplication(n,lb,ub):\n",
    "    for i in range(lb,ub+1):\n",
    "        ans=n*i\n",
    "        print(n,'x',i,'=',ans)\n",
    "multiplication(3,5,7)"
   ]
  },
  {
   "cell_type": "code",
   "execution_count": 121,
   "metadata": {},
   "outputs": [
    {
     "name": "stdout",
     "output_type": "stream",
     "text": [
      "unique list= [1, 10, 9, 8]\n",
      "max value= 10\n",
      "min value= 1\n",
      "avearge= 1\n"
     ]
    }
   ],
   "source": [
    "#design a program to find maximum,minimum\n",
    "#and average of numbers in a list\n",
    "#i/p:l=[1,10,9,9,8,8]\n",
    "#o/p:1.find unique lst\n",
    "#    2.find max and min values\n",
    "#    3.find average\n",
    "def min_max():\n",
    "    l=[1,10,9,9,8,8]\n",
    "    l1=[]\n",
    "    for i in  l:\n",
    "        if i not in l1:\n",
    "            l1.append(i)\n",
    "    print(\"unique list=\",l1)\n",
    "    print('max value=',max(l1))\n",
    "    print(\"min value=\",min(l1))\n",
    "    j=0\n",
    "    for i in range(len(l)):\n",
    "        j=((j+l[i])//(len(l)))\n",
    "    print(\"avearge=\",j)\n",
    "    \n",
    "min_max()        "
   ]
  },
  {
   "cell_type": "code",
   "execution_count": 33,
   "metadata": {},
   "outputs": [
    {
     "name": "stdout",
     "output_type": "stream",
     "text": [
      "-1\n"
     ]
    }
   ],
   "source": [
    "#write a program for linear search list\n",
    "#if key is found print \"1\"\n",
    "#else print \"-1\"\n",
    "#i/p l=[10,9,8,7,6] 5\n",
    "#o/p -1\n",
    "def linearsearch():\n",
    "    l=[10,9,8,7,6]\n",
    "    if 5 not in l:\n",
    "        print('-1')\n",
    "    else:\n",
    "        print('1')\n",
    "linearsearch()"
   ]
  },
  {
   "cell_type": "code",
   "execution_count": 126,
   "metadata": {},
   "outputs": [
    {
     "name": "stdout",
     "output_type": "stream",
     "text": [
      "square root of  1 is 1.0\n",
      "square root of  2 is 1.4142135623730951\n",
      "square root of  3 is 1.7320508075688772\n",
      "square root of  4 is 2.0\n",
      "square root of  5 is 2.23606797749979\n"
     ]
    }
   ],
   "source": [
    "#find the square root of a numbers in list \n",
    "#without using\n",
    "#math package\n",
    "def square_root():\n",
    "    l=[1,2,3,4,5]\n",
    "    for i in l:\n",
    "        j=i**(0.5)\n",
    "        print(\"square root of \",i,\"is\",j)\n",
    "    \n",
    "square_root()    "
   ]
  },
  {
   "cell_type": "code",
   "execution_count": 14,
   "metadata": {},
   "outputs": [
    {
     "name": "stdout",
     "output_type": "stream",
     "text": [
      "{'name': 'swee', 'phonenum': '9876543210', 'email': 'sweety@gmail.com'}\n"
     ]
    }
   ],
   "source": [
    "#using regular expression\n",
    "#add a name ,phone number and email contacts\n",
    "# if valid add to contact dictionary\n",
    "\n",
    "import re\n",
    "def contactdictionary(name,phonenum,email):\n",
    "    contactdictionary={}\n",
    "    pattern1='^[a-zA-Z_.]{3,47}$'\n",
    "    if(re.match(pattern1,name)):\n",
    "        contactdictionary['name']=name\n",
    "    else:\n",
    "        print(\"invalid\")\n",
    "    pattern2='^[6-9][0-9]{9}$'\n",
    "    if(re.match(pattern2,phonenum)):\n",
    "        contactdictionary['phonenum']=phonenum\n",
    "    else:\n",
    "        print(\"invalid\")\n",
    "    pattern3='^[a-z0-9][a-z_.]{3,14}[@][a-z]{3,12}[.][a-z]{2,3}'\n",
    "    if(re.match(pattern3,email)):\n",
    "        contactdictionary['email']=email\n",
    "    else:\n",
    "        print(\"invalid\")\n",
    "    print(contactdictionary)    \n",
    "contactdictionary('swee','9876543210','sweety@gmail.com')"
   ]
  },
  {
   "cell_type": "code",
   "execution_count": 35,
   "metadata": {},
   "outputs": [
    {
     "name": "stdout",
     "output_type": "stream",
     "text": [
      "squareroot = 1.0\n",
      "squareroot = 1.4142135623730951\n",
      "squareroot = 1.7320508075688772\n",
      "squareroot = 2.0\n",
      "squareroot = 2.23606797749979\n"
     ]
    }
   ],
   "source": [
    "#find the square root of a numbers in list \n",
    "#without using\n",
    "#math package\n",
    "def square_root():\n",
    "    l=[1,2,3,4,5]\n",
    "    li=[i**(0.5) for i in l ]\n",
    "    for i in li:\n",
    "        print(\"squareroot =\",i)\n",
    "square_root()  "
   ]
  },
  {
   "cell_type": "code",
   "execution_count": null,
   "metadata": {},
   "outputs": [],
   "source": []
  }
 ],
 "metadata": {
  "kernelspec": {
   "display_name": "Python 3",
   "language": "python",
   "name": "python3"
  },
  "language_info": {
   "codemirror_mode": {
    "name": "ipython",
    "version": 3
   },
   "file_extension": ".py",
   "mimetype": "text/x-python",
   "name": "python",
   "nbconvert_exporter": "python",
   "pygments_lexer": "ipython3",
   "version": "3.7.3"
  }
 },
 "nbformat": 4,
 "nbformat_minor": 2
}
