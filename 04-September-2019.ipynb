{
 "cells": [
  {
   "cell_type": "markdown",
   "metadata": {},
   "source": [
    "# Day Objectives(space after #)-title\n",
    "## Introduction To Jupiter Notebook(space after #)-title1(similarly ### for title 2....so on)\n",
    "**BOLD** \n",
    "\n",
    "*ITALIAN*    //no space for bold italian and text\n",
    "\n",
    "*TEXT\n",
    "\n",
    "<img src=\"jupyter.png\">\n",
    "\n",
    "\n",
    "1. Ordered list 1\n",
    "\n",
    " 2. Ordered list 2\n",
    "\n",
    " 3. Ordered list 3"
   ]
  },
  {
   "cell_type": "markdown",
   "metadata": {},
   "source": [
    "## Python Basics"
   ]
  },
  {
   "cell_type": "code",
   "execution_count": null,
   "metadata": {},
   "outputs": [],
   "source": [
    "# ->for single line comment\n",
    "'''for multy line commands\n",
    "vxdhsqgc\n",
    "wgdyhwqgdyu  \n",
    "wgdugg'''#-> for multi lines\n",
    "##->also for command line"
   ]
  },
  {
   "cell_type": "code",
   "execution_count": null,
   "metadata": {},
   "outputs": [],
   "source": [
    "n   # used the variable declared below"
   ]
  },
  {
   "cell_type": "code",
   "execution_count": null,
   "metadata": {},
   "outputs": [],
   "source": [
    "##variable Assignment\n",
    "n=123\n",
    "n"
   ]
  },
  {
   "cell_type": "code",
   "execution_count": null,
   "metadata": {},
   "outputs": [],
   "source": [
    "n1=n*n #can use the  variable declared in a cell in any cell\n",
    "n1"
   ]
  },
  {
   "cell_type": "code",
   "execution_count": null,
   "metadata": {},
   "outputs": [],
   "source": [
    "#multi variable assignment\n",
    "n=n1=n2=n3=123\n",
    "n\n",
    "n1\n",
    "n2\n",
    "n3"
   ]
  },
  {
   "cell_type": "code",
   "execution_count": null,
   "metadata": {},
   "outputs": [],
   "source": [
    "n=45\n",
    "n"
   ]
  },
  {
   "cell_type": "code",
   "execution_count": null,
   "metadata": {},
   "outputs": [],
   "source": [
    "n1"
   ]
  },
  {
   "cell_type": "code",
   "execution_count": null,
   "metadata": {},
   "outputs": [],
   "source": [
    "n # can use same variable name in different cells"
   ]
  },
  {
   "cell_type": "code",
   "execution_count": null,
   "metadata": {},
   "outputs": [],
   "source": [
    "n=3 #can use same variable in same cell\n",
    "n=4\n",
    "n#but the output will be existing value"
   ]
  },
  {
   "cell_type": "code",
   "execution_count": null,
   "metadata": {},
   "outputs": [],
   "source": [
    "n=10\n",
    "n#n value will not be printed in output\n",
    "n2=12\n",
    "n2#it prints only n2 value"
   ]
  },
  {
   "cell_type": "code",
   "execution_count": null,
   "metadata": {},
   "outputs": [],
   "source": [
    "#to resolve above cell problem\n",
    "n=10\n",
    "print n\n",
    "n2=12\n",
    "n2"
   ]
  },
  {
   "cell_type": "code",
   "execution_count": null,
   "metadata": {},
   "outputs": [],
   "source": [
    "#to resolve above cell problem\n",
    "n=10\n",
    "print(n) #now it prints the output \n",
    "n2=12\n",
    "n2 #no need to use print statement for last command"
   ]
  },
  {
   "cell_type": "code",
   "execution_count": null,
   "metadata": {},
   "outputs": [],
   "source": [
    "#Assigning values to variables\n",
    "a=10  #integer\n",
    "a"
   ]
  },
  {
   "cell_type": "code",
   "execution_count": null,
   "metadata": {},
   "outputs": [],
   "source": [
    "b=10.98 #float\n",
    "b"
   ]
  },
  {
   "cell_type": "code",
   "execution_count": null,
   "metadata": {},
   "outputs": [],
   "source": [
    "string=\"jupyter\" #to assign string value to the variable\n",
    "string"
   ]
  },
  {
   "cell_type": "code",
   "execution_count": null,
   "metadata": {},
   "outputs": [],
   "source": [
    "string='jupyter'\n",
    "string"
   ]
  },
  {
   "cell_type": "code",
   "execution_count": null,
   "metadata": {},
   "outputs": [],
   "source": [
    "type(string)  #to check the datatype of a voriable"
   ]
  },
  {
   "cell_type": "code",
   "execution_count": null,
   "metadata": {},
   "outputs": [],
   "source": [
    "type(b)"
   ]
  },
  {
   "cell_type": "code",
   "execution_count": null,
   "metadata": {},
   "outputs": [],
   "source": [
    "type(a)"
   ]
  },
  {
   "cell_type": "markdown",
   "metadata": {},
   "source": [
    "## type conversions"
   ]
  },
  {
   "cell_type": "code",
   "execution_count": null,
   "metadata": {},
   "outputs": [],
   "source": [
    "\n",
    "x=10\n",
    "type(x)"
   ]
  },
  {
   "cell_type": "code",
   "execution_count": null,
   "metadata": {},
   "outputs": [],
   "source": [
    "#now converting integer into float\n",
    "float(x)  \n"
   ]
  },
  {
   "cell_type": "code",
   "execution_count": null,
   "metadata": {},
   "outputs": [],
   "source": [
    "str(x) #int to string"
   ]
  },
  {
   "cell_type": "code",
   "execution_count": null,
   "metadata": {},
   "outputs": [],
   "source": [
    "print(type(x)) #datatype of a variable doesnot change"
   ]
  },
  {
   "cell_type": "code",
   "execution_count": null,
   "metadata": {},
   "outputs": [],
   "source": [
    "y=str(x) #we need to asign it to another variable to check the datatype after type conversion\n",
    "print(type(y))"
   ]
  },
  {
   "cell_type": "markdown",
   "metadata": {},
   "source": [
    "## Basic Arthimetic Operations"
   ]
  },
  {
   "cell_type": "code",
   "execution_count": null,
   "metadata": {},
   "outputs": [],
   "source": [
    "\n",
    "##ADD\n",
    "a=10\n",
    "b=20\n",
    "a+b"
   ]
  },
  {
   "cell_type": "code",
   "execution_count": null,
   "metadata": {},
   "outputs": [],
   "source": [
    "10+20"
   ]
  },
  {
   "cell_type": "code",
   "execution_count": null,
   "metadata": {},
   "outputs": [],
   "source": [
    "#subtract\n",
    "a-b\n"
   ]
  },
  {
   "cell_type": "code",
   "execution_count": null,
   "metadata": {},
   "outputs": [],
   "source": [
    "10-20"
   ]
  },
  {
   "cell_type": "code",
   "execution_count": null,
   "metadata": {},
   "outputs": [],
   "source": [
    "k=-2\n",
    "j=-4\n",
    "k-j"
   ]
  },
  {
   "cell_type": "code",
   "execution_count": null,
   "metadata": {},
   "outputs": [],
   "source": [
    "-2--4"
   ]
  },
  {
   "cell_type": "code",
   "execution_count": null,
   "metadata": {},
   "outputs": [],
   "source": [
    "print(a*b) #multiplication"
   ]
  },
  {
   "cell_type": "code",
   "execution_count": null,
   "metadata": {},
   "outputs": [],
   "source": [
    "b/a #division"
   ]
  },
  {
   "cell_type": "code",
   "execution_count": null,
   "metadata": {},
   "outputs": [],
   "source": [
    "b//a # for'/' float value will be produced in output   for'//' will give integer value by eliminating the values after point"
   ]
  },
  {
   "cell_type": "code",
   "execution_count": null,
   "metadata": {},
   "outputs": [],
   "source": [
    "print(b%a) #modular remainder will be the output\n"
   ]
  },
  {
   "cell_type": "code",
   "execution_count": null,
   "metadata": {},
   "outputs": [],
   "source": [
    "a='k'type(a)"
   ]
  },
  {
   "cell_type": "code",
   "execution_count": null,
   "metadata": {},
   "outputs": [],
   "source": [
    "a='k'\n",
    "type(a)"
   ]
  },
  {
   "cell_type": "code",
   "execution_count": null,
   "metadata": {},
   "outputs": [],
   "source": [
    "int(str(a))   #string value cannot be converted directly into another type"
   ]
  },
  {
   "cell_type": "code",
   "execution_count": null,
   "metadata": {},
   "outputs": [],
   "source": [
    "y=int(str(a))"
   ]
  },
  {
   "cell_type": "code",
   "execution_count": null,
   "metadata": {},
   "outputs": [],
   "source": [
    "int(a)\n",
    "y=type(a)"
   ]
  },
  {
   "cell_type": "code",
   "execution_count": null,
   "metadata": {},
   "outputs": [],
   "source": [
    "y=int(a)\n",
    "type(y)"
   ]
  },
  {
   "cell_type": "code",
   "execution_count": null,
   "metadata": {},
   "outputs": [],
   "source": [
    "# Here age is a string object\n",
    "age = \"18\"\n",
    "print(age)\n",
    "# Converting string to integer\n",
    "y = int(age)\n",
    "print(y)"
   ]
  },
  {
   "cell_type": "markdown",
   "metadata": {},
   "source": [
    "## Indentation In python\n",
    "### indentation is nothing but space or tab\n",
    "### Conditional Statements\n",
    "#### if ,if else, if elif else, nested if"
   ]
  },
  {
   "cell_type": "code",
   "execution_count": null,
   "metadata": {},
   "outputs": [],
   "source": [
    "n=16\n",
    "if(n%2==0):\n",
    "    print(\"even\")\n",
    "    "
   ]
  },
  {
   "cell_type": "code",
   "execution_count": null,
   "metadata": {},
   "outputs": [],
   "source": [
    "n=23\n",
    "if(n%2==0):\n",
    "    print(\"even\")\n",
    "else:\n",
    "    print(\"odd\")"
   ]
  },
  {
   "cell_type": "code",
   "execution_count": null,
   "metadata": {},
   "outputs": [],
   "source": [
    "a=int(input())\n",
    "b=int(input())\n",
    "if a>b:\n",
    "    print(\"a is big\")\n",
    "else:\n",
    "    print(\"b is big\")"
   ]
  },
  {
   "cell_type": "code",
   "execution_count": null,
   "metadata": {},
   "outputs": [],
   "source": [
    "a=int(input())\n",
    "b=int(input())\n",
    "c=a**b\n",
    "print(c%10)"
   ]
  },
  {
   "cell_type": "code",
   "execution_count": null,
   "metadata": {},
   "outputs": [],
   "source": [
    "a=int(input())\n",
    "b=int(input())\n",
    "c=a**b\n",
    "print(c%10)"
   ]
  },
  {
   "cell_type": "code",
   "execution_count": null,
   "metadata": {},
   "outputs": [],
   "source": [
    "s=\"python\"\n",
    "s"
   ]
  },
  {
   "cell_type": "code",
   "execution_count": null,
   "metadata": {},
   "outputs": [],
   "source": [
    "len(s)\n"
   ]
  },
  {
   "cell_type": "code",
   "execution_count": null,
   "metadata": {},
   "outputs": [],
   "source": [
    "#indexing\n",
    "s[1]"
   ]
  },
  {
   "cell_type": "code",
   "execution_count": null,
   "metadata": {},
   "outputs": [],
   "source": [
    "s1=\"python program is a very powerful language\"\n",
    "print(s1[len(s1)-1])\n",
    "s1[-1]\n"
   ]
  },
  {
   "cell_type": "code",
   "execution_count": null,
   "metadata": {},
   "outputs": [],
   "source": [
    "k=\"name\"\n",
    "print(len(k))\n",
    "print(k[len(k)-1])\n",
    "print(k[-1])\n",
    "print(k[-2])"
   ]
  },
  {
   "cell_type": "code",
   "execution_count": null,
   "metadata": {},
   "outputs": [],
   "source": [
    "s=\"python is very efficient language\"\n",
    "print(s[-1])\n",
    "print(s[len(s)-1])"
   ]
  },
  {
   "cell_type": "code",
   "execution_count": null,
   "metadata": {},
   "outputs": [],
   "source": [
    "print(s[0:6])\n",
    "print(s[50:])"
   ]
  },
  {
   "cell_type": "code",
   "execution_count": null,
   "metadata": {},
   "outputs": [],
   "source": [
    "print(s[-9:])"
   ]
  },
  {
   "cell_type": "code",
   "execution_count": null,
   "metadata": {},
   "outputs": [],
   "source": [
    "print(s[1::2])  #using two slicing operators we printed even position characters  here 2 is the value ++2 have to increment"
   ]
  },
  {
   "cell_type": "code",
   "execution_count": null,
   "metadata": {},
   "outputs": [],
   "source": [
    "print(s[::-1])  #to print a string in reverse order"
   ]
  },
  {
   "cell_type": "code",
   "execution_count": null,
   "metadata": {},
   "outputs": [],
   "source": [
    "print(s[::-2]) #print even position characters in reverse order"
   ]
  },
  {
   "cell_type": "code",
   "execution_count": null,
   "metadata": {},
   "outputs": [],
   "source": [
    "print(s[::-3])"
   ]
  },
  {
   "cell_type": "markdown",
   "metadata": {},
   "source": [
    "## string methods"
   ]
  },
  {
   "cell_type": "code",
   "execution_count": null,
   "metadata": {},
   "outputs": [],
   "source": [
    "dir(str)"
   ]
  },
  {
   "cell_type": "code",
   "execution_count": null,
   "metadata": {},
   "outputs": [],
   "source": [
    "#capitalise\n",
    "#changes the character of first word into capital\n",
    "a=\"python workshop\"\n",
    "b=a.capitalize()\n",
    "print(a.capitalize())\n",
    "print(a)\n",
    "print(b)\n",
    "\n",
    "#title changes first character of every word\n",
    "print(a.title())\n",
    "\n",
    "#upper\n",
    "print(a.upper())\n",
    "print(a)\n",
    "\n",
    "#lower\n",
    "print(a.lower())"
   ]
  },
  {
   "cell_type": "code",
   "execution_count": null,
   "metadata": {},
   "outputs": [],
   "source": [
    "#isupper\n",
    "print('A'.isupper())\n",
    "a='A'\n",
    "print(a.isupper())\n",
    "\n",
    "#lower\n",
    "a='a'\n",
    "print(a.islower())\n",
    "print('A'.islower())"
   ]
  },
  {
   "cell_type": "code",
   "execution_count": null,
   "metadata": {},
   "outputs": [],
   "source": [
    "#isalpha\n",
    "a.isalpha() #checks only whether the string is character or not\n",
    "b=\"1324dgsvcjh\"\n",
    "print(b.isalpha())\n",
    "\n",
    "#isnumeric\n",
    "print(b.isnumeric())\n",
    "print(b.isalnum())\n",
    "print(b.isdigit())"
   ]
  },
  {
   "cell_type": "code",
   "execution_count": null,
   "metadata": {},
   "outputs": [],
   "source": [
    "#to check whether the string is palindrome or not\n",
    "a=input()\n",
    "if(a==a[::-1]):\n",
    "    print(\"palindrome\")"
   ]
  },
  {
   "cell_type": "code",
   "execution_count": null,
   "metadata": {},
   "outputs": [],
   "source": [
    "# strip  ignores space sin strings\n",
    "a=\"     python\"  #ignores left spaces\n",
    "print(a.strip())\n",
    "print(a.lstrip())\n",
    "b=\"python      \"  # ignores right spaces\n",
    "print(b.rstrip())\n",
    "\n",
    "#find\n",
    "print(a.find('p'))\n",
    "print(a.find('w'))  #by default it gives -1\n",
    "\n",
    "#count\n",
    "print(a.count('h'))\n",
    "print(a.count('w'))  #by default it produces 0"
   ]
  },
  {
   "cell_type": "code",
   "execution_count": null,
   "metadata": {},
   "outputs": [],
   "source": [
    "s1=input()\n",
    "s2=input()\n",
    "if(s1==s2):\n",
    "    print(\"True\")\n",
    "else:\n",
    "    print(\"False\")"
   ]
  },
  {
   "cell_type": "markdown",
   "metadata": {},
   "source": [
    "# functions\n"
   ]
  },
  {
   "cell_type": "code",
   "execution_count": null,
   "metadata": {},
   "outputs": [],
   "source": [
    "#functions in python are defined by a keyword \"def\"\n",
    "##write a program to find leap year\n",
    "\n",
    "def isleapyear(year):\n",
    "    if((year%400==0) or (year%100!=0 and year%4==0)):\n",
    "        print(\"leap year\")\n",
    "    else:\n",
    "        print(\"non leap year\")\n",
    "y=int(input(\"enter year:\"))\n",
    "isleapyear(y)"
   ]
  },
  {
   "cell_type": "code",
   "execution_count": null,
   "metadata": {},
   "outputs": [],
   "source": [
    "def check_divisibility(a):\n",
    "    if(a%10==0 and a%4!=0):\n",
    "        print(\"TRUE\")\n",
    "    else:\n",
    "        print(\"FALSE\")\n",
    "b=int(input())\n",
    "check_divisibility(b)"
   ]
  },
  {
   "cell_type": "code",
   "execution_count": null,
   "metadata": {},
   "outputs": [],
   "source": [
    "def greatest(a,b,c):\n",
    "    if(a>b and a>c):\n",
    "        print(a)\n",
    "    elif(b>c):\n",
    "        print(b)\n",
    "    else:\n",
    "        print(c)\n",
    "x=int(input())\n",
    "y=int(input())\n",
    "z=int(input())\n",
    "greatest(x,y,z)"
   ]
  },
  {
   "cell_type": "code",
   "execution_count": null,
   "metadata": {},
   "outputs": [],
   "source": [
    "def print_num(n):\n",
    "    for i in range(1,n+1):\n",
    "        print(i)\n",
    "y=int(input())\n",
    "print_num(y)"
   ]
  },
  {
   "cell_type": "code",
   "execution_count": null,
   "metadata": {},
   "outputs": [],
   "source": [
    "def even_num(n):\n",
    "    for j in range(1,n+1):\n",
    "        if(j%2==0):\n",
    "            print(j)\n",
    "            \n",
    "a=int(input())\n",
    "even_num(a)\n",
    "        "
   ]
  },
  {
   "cell_type": "code",
   "execution_count": null,
   "metadata": {},
   "outputs": [],
   "source": [
    "# odd num 1 to 40 skip 2\n",
    "def odd_num(n):\n",
    "    for i in range(1,n+1,3):\n",
    "        if(i%2!=0):\n",
    "            print(i)\n",
    "            \n",
    "c=int(input())\n",
    "odd_num(c)\n",
    "            "
   ]
  },
  {
   "cell_type": "code",
   "execution_count": null,
   "metadata": {},
   "outputs": [],
   "source": [
    "#buffer over\n",
    "a=int(input())\n",
    "b=int(input())\n",
    "c=a**b\n",
    "if(c<10000):\n",
    "    print(c%10)\n",
    "    "
   ]
  },
  {
   "cell_type": "code",
   "execution_count": null,
   "metadata": {},
   "outputs": [],
   "source": [
    "def factors(n):\n",
    "    for i in range(1,n+1):\n",
    "        if(n%i==0):\n",
    "            print(i)\n",
    "factors(6)"
   ]
  },
  {
   "cell_type": "code",
   "execution_count": null,
   "metadata": {},
   "outputs": [],
   "source": [
    "def factorial(n):\n",
    "    if(n<0):\n",
    "        print(\"factorial not posible\")\n",
    "    if(n==1 or n==0):\n",
    "        return 1\n",
    "    else:\n",
    "        return(n*factorial(n-1))\n",
    "x=int(input())\n",
    "factorial(x)"
   ]
  },
  {
   "cell_type": "code",
   "execution_count": null,
   "metadata": {},
   "outputs": [],
   "source": [
    "def greatest(a,b,c):\n",
    "    if(len(a)>len(b) and len(a)>len(c)):\n",
    "        print(a,\"is longest\")\n",
    "    elif(len(b)>len(c)):\n",
    "        print(b,\"is longest\")\n",
    "    else:\n",
    "        print(c,\"is longest\")\n",
    "x=input()\n",
    "y=input()\n",
    "z=input()\n",
    "greatest(x,y,z)"
   ]
  },
  {
   "cell_type": "code",
   "execution_count": null,
   "metadata": {},
   "outputs": [],
   "source": [
    "a=\"Bhavitha Singamsetty\"\n",
    "a.split()"
   ]
  },
  {
   "cell_type": "code",
   "execution_count": null,
   "metadata": {},
   "outputs": [],
   "source": [
    "a=input(\"enter a string with spaces:\")\n",
    "b=a.split()\n",
    "print(\"no.of words:\",len(b))"
   ]
  },
  {
   "cell_type": "markdown",
   "metadata": {},
   "source": [
    "## list\n",
    "## tuples\n",
    "## dictionary"
   ]
  },
  {
   "cell_type": "code",
   "execution_count": null,
   "metadata": {},
   "outputs": [],
   "source": [
    "#list is represented with square brackets\n",
    "#list mutable\n",
    "#forward indexing and backward indexing\n",
    "l=[1,3.3,\"satheesh\",[1,2,3]]\n",
    "print(l)\n",
    "\n",
    "#data type\n",
    "print(type(l))"
   ]
  },
  {
   "cell_type": "code",
   "execution_count": null,
   "metadata": {},
   "outputs": [],
   "source": [
    "print(l[3][2])  #list with in list indexing\n",
    "print(l[:]) #Entire string elements"
   ]
  },
  {
   "cell_type": "code",
   "execution_count": null,
   "metadata": {},
   "outputs": [],
   "source": [
    "l=[1,2,3,5,8]  #adding elements in list\n",
    "s=0\n",
    "for i in l:  #list is iteratable\n",
    "    s=s+i\n",
    "print(s)\n",
    "\n",
    "#built in functions  SUM\n",
    "print(sum(l))"
   ]
  },
  {
   "cell_type": "code",
   "execution_count": null,
   "metadata": {},
   "outputs": [],
   "source": [
    "#include<stdio.h>\n",
    "main()\n",
    "{\n",
    "    printf(\"Hello world!\");\n",
    "}"
   ]
  },
  {
   "cell_type": "code",
   "execution_count": null,
   "metadata": {},
   "outputs": [],
   "source": [
    "a=2.2  #omits negative value\n",
    "print(abs(a))\n",
    "\n",
    "print(abs(-345))\n",
    "\n",
    "##round\n",
    "print(round(a))  #a=2.2\n",
    "a=3.9\n",
    "print(round(a))\n",
    "a=-56.8\n",
    "print(round(a))\n",
    "print(round(abs(a)))\n",
    "b=[1,'budvhbdj',456]\n",
    "print(len(b))\n",
    "b=[1,2,3,4,15,67,3,4]\n",
    "print(sum(b))\n",
    "print(chr(65)) #alphabet that belongs to the given ascii num\n",
    "print(chr(97))\n",
    "print(ord('A')) #prints ascii value of given alphabet\n",
    "print(bin(4))  #prints binary value\n",
    "print(hex(15)) #prints hexadecimal value\n",
    "s=[3,4,6,7,8]\n",
    "print(sorted(s))  #sort elements in the list\n",
    "print(sorted(s,reverse=True))  #prints reverse of sorted list"
   ]
  },
  {
   "cell_type": "code",
   "execution_count": null,
   "metadata": {},
   "outputs": [],
   "source": [
    "#using built in functions\n",
    "print(min(s))\n",
    "print(max(s))\n",
    "#without using built in functions\n",
    "a=sorted(s)\n",
    "print(s[len(a)-1])"
   ]
  },
  {
   "cell_type": "code",
   "execution_count": null,
   "metadata": {},
   "outputs": [],
   "source": [
    "b=[1,2,55,3,0]\n",
    "print(l[1::2])  #print even placed values\n",
    "\n"
   ]
  },
  {
   "cell_type": "code",
   "execution_count": null,
   "metadata": {},
   "outputs": [],
   "source": [
    "dir(list)"
   ]
  },
  {
   "cell_type": "code",
   "execution_count": null,
   "metadata": {},
   "outputs": [],
   "source": [
    "#append extend insert\n",
    "#insertion of elements into list\n",
    "\n",
    "#remove pop clear \n",
    "#deletes elements in list\n",
    "#del\n",
    "#deletes entire list\n",
    "\n",
    "#count \n",
    "#prints how many times avalue is repeated\n",
    "\n",
    "#index\n",
    "#prints index value\n",
    "#copy copys list\n"
   ]
  },
  {
   "cell_type": "code",
   "execution_count": null,
   "metadata": {},
   "outputs": [],
   "source": [
    "l=[]\n",
    "l.append(100)  #inserts element at end\n",
    "print(l)\n",
    "l.append(200)\n",
    "print(l)       #here list get empty for each run"
   ]
  },
  {
   "cell_type": "code",
   "execution_count": null,
   "metadata": {},
   "outputs": [],
   "source": [
    "l.append(100)  #inserts element at end\n",
    "print(l)\n",
    "l.append(200)\n",
    "print(l)  #here it saves the value in list beacuse we are not emptying the list"
   ]
  },
  {
   "cell_type": "code",
   "execution_count": null,
   "metadata": {},
   "outputs": [],
   "source": [
    "a=[1,2,3,4]\n",
    "l.append(a)\n",
    "print(l)\n",
    "l.append([1,2,3,4,5])"
   ]
  },
  {
   "cell_type": "code",
   "execution_count": null,
   "metadata": {},
   "outputs": [],
   "source": [
    "l.extend(1)\n",
    "print(l)"
   ]
  },
  {
   "cell_type": "code",
   "execution_count": null,
   "metadata": {},
   "outputs": [],
   "source": [
    "l.extend([1,2,3])  #adds at end\n",
    "print(l)"
   ]
  },
  {
   "cell_type": "code",
   "execution_count": null,
   "metadata": {},
   "outputs": [],
   "source": [
    "l.insert(0,15)  #inserts at partcular position here 0 is the position\n",
    "print(l)"
   ]
  },
  {
   "cell_type": "code",
   "execution_count": null,
   "metadata": {},
   "outputs": [],
   "source": [
    "name=[]\n",
    "age=[]\n",
    "list1=[]\n",
    "for i in range(3):\n",
    "    l=input(\"enter name:\")\n",
    "    name.append(l)\n",
    "    k=int(input(\"enter age:\"))\n",
    "    age.append(k)\n",
    "for i in range(3):\n",
    "    print(name[i],age[i],end=\"\")\n",
    "for i in range(3):\n",
    "    list\n",
    "    "
   ]
  },
  {
   "cell_type": "code",
   "execution_count": null,
   "metadata": {},
   "outputs": [],
   "source": [
    "#index\n",
    "l=[1,2,3,4]\n",
    "l.insert(0,100)\n",
    "print(l)\n",
    "#reversing the list\n",
    "l.reverse()\n",
    "print(l)\n",
    "\n",
    "#sorting\n",
    "l.sort()\n",
    "print(l)\n",
    "\n",
    "#sorting in descending order\n",
    "l.sort(reverse=True)\n",
    "print(l)\n",
    "\n",
    "#pop  removes end element and returns the poped element\n",
    "print(l.pop())  #by default it removes end element\n",
    "print(\"after pop\",l)\n",
    "\n",
    "print(l.pop(1))  #removing with index\n",
    "print(\"after poping\",l)\n",
    "\n",
    "#remove removes the particular element we passed\n",
    "l.remove(3)\n",
    "print(\"after removing 3\",l)\n",
    "\n",
    " #l.remove(10) #out of values  throws error\n",
    "\n",
    "#clear removes entire elemnts n the list\n",
    "l.clear()\n",
    "print(l)\n",
    "\n",
    "#del removes entire list\n",
    "del(l)\n",
    "print(l)"
   ]
  },
  {
   "cell_type": "code",
   "execution_count": null,
   "metadata": {},
   "outputs": [],
   "source": [
    "#count\n",
    "l=[1,2,1,4,5,5,5]\n",
    "print(l.count(5))\n",
    "print(l.index(5))\n",
    "print(l.index(5,6))"
   ]
  },
  {
   "cell_type": "code",
   "execution_count": null,
   "metadata": {},
   "outputs": [],
   "source": [
    "#copy\n",
    "l=[1,2,3]\n",
    "b=l\n",
    "print(l)\n",
    "print(b)\n",
    "l[0]=100\n",
    "print(l)\n",
    "print(b)\n",
    "a=l.copy()\n",
    "print(l)\n",
    "print(a)\n",
    "l[0]=200\n",
    "print(l)\n",
    "print(a)"
   ]
  },
  {
   "cell_type": "code",
   "execution_count": null,
   "metadata": {},
   "outputs": [],
   "source": [
    "lis=input()\n",
    "a=lis.split()\n",
    "print(a)\n",
    "b=list(map(int,a))"
   ]
  },
  {
   "cell_type": "markdown",
   "metadata": {},
   "source": [
    "# Tuple\n",
    "## ()\n",
    "## immutable"
   ]
  },
  {
   "cell_type": "code",
   "execution_count": null,
   "metadata": {},
   "outputs": [],
   "source": [
    "t=(1,2,3)\n",
    "print(t[0:])\n",
    "print(sum(t))\n",
    "print(min(t))\n",
    "print(max(t))\n"
   ]
  },
  {
   "cell_type": "code",
   "execution_count": null,
   "metadata": {},
   "outputs": [],
   "source": [
    "dir(tuple)"
   ]
  },
  {
   "cell_type": "code",
   "execution_count": null,
   "metadata": {},
   "outputs": [],
   "source": [
    "num=input().split()\n",
    "num2=list(map(int,num))\n",
    "num2"
   ]
  },
  {
   "cell_type": "code",
   "execution_count": null,
   "metadata": {},
   "outputs": [],
   "source": [
    "a=(\"Bhavitha\",\"1323\") #assigning names to the elements in the tuple\n",
    "(name,mobile)=a"
   ]
  },
  {
   "cell_type": "code",
   "execution_count": null,
   "metadata": {},
   "outputs": [],
   "source": [
    "name\n"
   ]
  },
  {
   "cell_type": "code",
   "execution_count": null,
   "metadata": {},
   "outputs": [],
   "source": [
    "lis=[\"name\",\"num\"]  #assigning names for list\n",
    "(n1,n2)=lis\n"
   ]
  },
  {
   "cell_type": "code",
   "execution_count": null,
   "metadata": {},
   "outputs": [],
   "source": [
    "n1\n"
   ]
  },
  {
   "cell_type": "markdown",
   "metadata": {},
   "source": [
    "## {key:value,key1:value}\n",
    "# Dictionaries"
   ]
  },
  {
   "cell_type": "code",
   "execution_count": null,
   "metadata": {},
   "outputs": [],
   "source": [
    "dir(dict)"
   ]
  },
  {
   "cell_type": "code",
   "execution_count": null,
   "metadata": {},
   "outputs": [],
   "source": [
    "#key and value together known as item\n",
    "d={\"name\":\"sai\",\"rollno\":'18hp1a1228',\"age\":22}\n",
    "print(d.values())  #prints values in the dictionary\n",
    "print(d.keys())  #prints keys\n",
    "print(d.items()) #print items"
   ]
  },
  {
   "cell_type": "code",
   "execution_count": null,
   "metadata": {},
   "outputs": [],
   "source": [
    "d[\"name\"]  #returns value of the given key"
   ]
  },
  {
   "cell_type": "code",
   "execution_count": null,
   "metadata": {},
   "outputs": [],
   "source": [
    "d[\"name\"]=\"kiranmai\"  #mutable changing values\n",
    "d"
   ]
  },
  {
   "cell_type": "code",
   "execution_count": null,
   "metadata": {},
   "outputs": [],
   "source": [
    "d[\"gender\"]=\"F\"  #adding elements\n",
    "d"
   ]
  },
  {
   "cell_type": "code",
   "execution_count": null,
   "metadata": {},
   "outputs": [],
   "source": [
    "#using get method\n",
    "d.get(\"name\")"
   ]
  },
  {
   "cell_type": "code",
   "execution_count": null,
   "metadata": {},
   "outputs": [],
   "source": [
    "#update\n",
    "d.update({\"name\":\"sai\"})\n",
    "d"
   ]
  },
  {
   "cell_type": "code",
   "execution_count": null,
   "metadata": {},
   "outputs": [],
   "source": [
    "d[\"names\"]=d.pop(\"name\")\n",
    "d"
   ]
  },
  {
   "cell_type": "code",
   "execution_count": null,
   "metadata": {},
   "outputs": [],
   "source": [
    "d.setdefault('a')\n",
    "d"
   ]
  },
  {
   "cell_type": "code",
   "execution_count": null,
   "metadata": {},
   "outputs": [],
   "source": [
    "l=[1,2]\n",
    "a=[5,5]\n",
    "x=dict(zip(l,a))\n",
    "print(x)\n",
    "x=dict(zip(a,l))\n",
    "x"
   ]
  },
  {
   "cell_type": "code",
   "execution_count": null,
   "metadata": {},
   "outputs": [],
   "source": [
    "l=input().split()\n",
    "a=input().split()\n",
    "d=dict(zip(l,a))\n",
    "print(d)"
   ]
  },
  {
   "cell_type": "code",
   "execution_count": null,
   "metadata": {},
   "outputs": [],
   "source": [
    "word=input()\n",
    "wordlist=[]\n",
    "wordlist.append(word)\n",
    "no_of_letters=len(word)\n",
    "count=0\n",
    "vowel=[]\n",
    "for i in wordlist:\n",
    "    if(i=='a' or i=='e' or i=='o' or i=='u' or i=='i' or i=='A' or i=='E' or i=='I' or i=='O' or i=='U'):\n",
    "        \n",
    "        vowel.append(i)\n",
    "print(\"no.of letters=\",no_of_letters)\n",
    "print(\"no.of vowels=\",count)\n",
    "percent=(count//5)*100\n",
    "print(\"percentage of vowels=\",percentage,\"%\")\n",
    "d=dict(zip(vowel,percent))\n",
    "print(d)\n",
    "        "
   ]
  },
  {
   "cell_type": "code",
   "execution_count": null,
   "metadata": {},
   "outputs": [],
   "source": [
    "##check whether the given number is in range of lower bound and uppper bound\n",
    "def check_num(a,b,num):\n",
    "    if(num>a and num<b):\n",
    "        print(\"yes the given num is in b/w lower bound=\",a,\"upper bound\",b)\n",
    "    else:\n",
    "        print(\"no the given num is in b/w lower bound=\",a,\"upper bound\",b)\n",
    "\n",
    "\n",
    "lb=int(input(\"enter lower bound:\"))\n",
    "ub=int(input(\"enter upper bound:\"))\n",
    "n=int(input(\"enter num to be found:\"))\n",
    "check_num(lb,ub,n)\n"
   ]
  },
  {
   "cell_type": "code",
   "execution_count": null,
   "metadata": {},
   "outputs": [],
   "source": [
    "def no_of_digits(s):\n",
    "    print(len(s))\n",
    "s1=input()\n",
    "s=s1.split()\n",
    "no_of_digits(s)"
   ]
  },
  {
   "cell_type": "code",
   "execution_count": null,
   "metadata": {},
   "outputs": [],
   "source": [
    "def find_no():\n",
    "\n",
    "    n=input()\n",
    "    print(len(n))\n",
    "\n",
    "    n1=int(input())\n",
    "    count=0\n",
    "    while(n1>0):\n",
    "        n1=n1//10\n",
    "        count=count+1\n",
    "    print(count)    \n",
    "find_no()"
   ]
  },
  {
   "cell_type": "code",
   "execution_count": null,
   "metadata": {},
   "outputs": [],
   "source": [
    "#leap year with in given range\n",
    "def isleapyear(lb,up):\n",
    "    for i in range(lb-1,ub+1):\n",
    "        if((i%400==0) or (i%100!=0 and i%4==0)):\n",
    "            print(i,\"leap year\")\n",
    "        \n",
    "    \n",
    "        \n",
    "lb=int(input(\"enter lower bound:\"))\n",
    "ub=int(input(\"enter upper bound:\"))\n",
    "isleapyear(lb,ub)\n",
    "        \n",
    "   \n",
    "\n"
   ]
  },
  {
   "cell_type": "code",
   "execution_count": null,
   "metadata": {},
   "outputs": [],
   "source": [
    "#prime\n",
    "def prime_or_not(n):\n",
    "    for i in range(2,n+1):\n",
    "        if(n%i==0):\n",
    "            return False\n",
    "        else:\n",
    "            return True\n",
    "n=int(input(\"enter n value:\"))\n",
    "prime_or_not(n)"
   ]
  },
  {
   "cell_type": "code",
   "execution_count": null,
   "metadata": {},
   "outputs": [],
   "source": [
    "#prime within range\n",
    "def prime_in_range(lb1,ub1):\n",
    "    for i in range(lb1,ub1+1):\n",
    "        if(prime_or_not(i)):\n",
    "            print(i)\n",
    "            \n",
    "lb=int(input())\n",
    "ub=int(input())\n",
    "prime_in_range(lb,ub)\n",
    "    \n"
   ]
  },
  {
   "cell_type": "code",
   "execution_count": 13,
   "metadata": {},
   "outputs": [
    {
     "name": "stdout",
     "output_type": "stream",
     "text": [
      "one\n",
      "1\n",
      "false\n"
     ]
    }
   ],
   "source": [
    "#given string equal to number\n",
    "str1=input()\n",
    "n=int(input())\n",
    "if(str(n)==n):\n",
    "    print(\"true\")\n",
    "else:\n",
    "    print(\"false\")\n"
   ]
  },
  {
   "cell_type": "code",
   "execution_count": null,
   "metadata": {},
   "outputs": [],
   "source": [
    "#perfect number\n",
    "#factors equal to sum\n",
    "def perfect_num(n):\n",
    "    sum=0\n",
    "    for i in range(1,n):\n",
    "        if(n%i==0):\n",
    "            sum=sum+i\n",
    "    if(sum==n):\n",
    "        return True\n",
    "    else:\n",
    "        return False\n",
    "n=int(input())\n",
    "perfect_num(n)"
   ]
  },
  {
   "cell_type": "code",
   "execution_count": null,
   "metadata": {},
   "outputs": [],
   "source": [
    "def perfect_num(n):\n",
    "    sum=0\n",
    "    for i in range(1,n):\n",
    "        if(n%i==0):\n",
    "            #print(i,end=' ')\n",
    "            sum=sum+i\n",
    "    #print(\"\\nsum=\",sum)\n",
    "    if(sum==n):\n",
    "        return True\n",
    "    else:\n",
    "        return False\n",
    "n=int(input())\n",
    "perfect_num(n)"
   ]
  },
  {
   "cell_type": "code",
   "execution_count": null,
   "metadata": {},
   "outputs": [],
   "source": [
    "def perfect_num_in_range(lb,ub):\n",
    "    lb=int(input())\n",
    "    ub=int(input())\n",
    "    for i in range(lb,ub+1):\n",
    "            if(perfect_num(i)):\n",
    "                print(i)\n",
    "    \n",
    "perfect_num_in_range(lb,ub)     "
   ]
  },
  {
   "cell_type": "code",
   "execution_count": 2,
   "metadata": {},
   "outputs": [
    {
     "name": "stdout",
     "output_type": "stream",
     "text": [
      "10\n",
      "12\n"
     ]
    },
    {
     "data": {
      "text/plain": [
       "True"
      ]
     },
     "execution_count": 2,
     "metadata": {},
     "output_type": "execute_result"
    }
   ],
   "source": [
    "#given two variables if one of them or sum ot those two is equal to 10 return true else false\n",
    "def check(a,b):\n",
    "    if(a==10 or b==10 or a+b==10):\n",
    "        return True\n",
    "    else:\n",
    "        return False\n",
    "a=int(input())\n",
    "b=int(input())\n",
    "check(a,b)"
   ]
  },
  {
   "cell_type": "code",
   "execution_count": null,
   "metadata": {},
   "outputs": [],
   "source": [
    "#concatenate two strings\n",
    "s1=\"Hello\"\n",
    "s2=\"World\"\n",
    "print(s1+s2)"
   ]
  },
  {
   "cell_type": "code",
   "execution_count": 6,
   "metadata": {},
   "outputs": [
    {
     "name": "stdout",
     "output_type": "stream",
     "text": [
      "78\n",
      "1\n",
      "[1, 1, 2, 2, 3, 4, 5, 6, 23, 78]\n",
      "23\n",
      "4\n"
     ]
    }
   ],
   "source": [
    "#li=[10,9,8,7,6]\n",
    "#sort in ascending order\n",
    "#find maximum element in the list\n",
    "#second largest element\n",
    "\n",
    "l=[1,2,3,2,1,23,4,5,6,78]\n",
    "l.sort()\n",
    "print(max(l))\n",
    "print(min(l))\n",
    "print(l)\n",
    "print(l[-2])\n",
    "print(l[-5])    \n"
   ]
  },
  {
   "cell_type": "code",
   "execution_count": 12,
   "metadata": {},
   "outputs": [
    {
     "name": "stdout",
     "output_type": "stream",
     "text": [
      "[2, 5, 6, 7, 4, 3, 1, 8, 9]\n",
      "[1, 2, 3, 4, 5, 6, 7, 8, 9]\n",
      "9\n",
      "1\n",
      "8\n"
     ]
    }
   ],
   "source": [
    "##k=[2,4,4,4,6,6,3]\n",
    "##print unique list=[2,3,4,6]\n",
    "#sort\n",
    "#max element\n",
    "#min element\n",
    "#second largest element\n",
    "\n",
    "li=[2,5,6,7,4,3,2,1,7,8,9,5]\n",
    "l=[]\n",
    "for i in li:\n",
    "    if(i not in l):\n",
    "        l.append(i)\n",
    "print(l)\n",
    "l.sort()\n",
    "print(l)\n",
    "print(max(l))\n",
    "print(min(l))\n",
    "print(l[-2])"
   ]
  },
  {
   "cell_type": "code",
   "execution_count": null,
   "metadata": {},
   "outputs": [],
   "source": [
    "str=input()\n",
    "num=int(input())\n",
    "\n",
    "switch(num):\n",
    "    case:1\n",
    "        return One\n",
    "        break\n",
    "    case:2\n",
    "        return two\n",
    "        break\n",
    "    case:3\n",
    "        return three"
   ]
  },
  {
   "cell_type": "code",
   "execution_count": null,
   "metadata": {},
   "outputs": [],
   "source": [
    "count=0\n",
    "sum=1234\n",
    "while(sum>0):\n",
    "  sum=sum//10\n",
    "  \n",
    "  n=sum%10\n",
    "  if(count==2):\n",
    "    print(n)\n",
    "  count+=1\n"
   ]
  }
 ],
 "metadata": {
  "kernelspec": {
   "display_name": "Python 3",
   "language": "python",
   "name": "python3"
  },
  "language_info": {
   "codemirror_mode": {
    "name": "ipython",
    "version": 3
   },
   "file_extension": ".py",
   "mimetype": "text/x-python",
   "name": "python",
   "nbconvert_exporter": "python",
   "pygments_lexer": "ipython3",
   "version": "3.7.3"
  }
 },
 "nbformat": 4,
 "nbformat_minor": 2
}
